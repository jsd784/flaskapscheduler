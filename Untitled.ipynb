{
 "cells": [
  {
   "cell_type": "code",
   "execution_count": 26,
   "metadata": {},
   "outputs": [],
   "source": [
    "from apscheduler.schedulers.background import BackgroundScheduler\n",
    "from datetime import datetime,timedelta"
   ]
  },
  {
   "cell_type": "code",
   "execution_count": 2,
   "metadata": {},
   "outputs": [],
   "source": [
    "#### get local timezone\n",
    "\n",
    "from tzlocal import get_localzone\n",
    "tz = get_localzone()"
   ]
  },
  {
   "cell_type": "code",
   "execution_count": 16,
   "metadata": {},
   "outputs": [],
   "source": [
    "def printing_something(text):\n",
    "    print(f\"printing {text} at {datetime.now()}\")"
   ]
  },
  {
   "cell_type": "code",
   "execution_count": 4,
   "metadata": {},
   "outputs": [],
   "source": [
    "# initialize scheduler with your preferred timezone\n",
    "scheduler = BackgroundScheduler({'apscheduler.timezone': tz})\n",
    "scheduler.add_jobstore('sqlalchemy', url='sqlite:///data/apscheduler.db')\n",
    "scheduler.start()"
   ]
  },
  {
   "cell_type": "code",
   "execution_count": 18,
   "metadata": {},
   "outputs": [],
   "source": [
    "today = datetime.today()\n",
    "curr_year = int(today.strftime(\"%Y\"))\n",
    "curr_month = int(today.strftime(\"%m\"))\n",
    "text = \"test txt\""
   ]
  },
  {
   "cell_type": "code",
   "execution_count": 11,
   "metadata": {},
   "outputs": [],
   "source": [
    "#curr_year = 2021\n",
    "#curr_month = 5"
   ]
  },
  {
   "cell_type": "code",
   "execution_count": 30,
   "metadata": {},
   "outputs": [],
   "source": [
    "today = datetime.today()"
   ]
  },
  {
   "cell_type": "code",
   "execution_count": 31,
   "metadata": {},
   "outputs": [
    {
     "name": "stdout",
     "output_type": "stream",
     "text": [
      "2020-12-18 09:32:41.644726 2020-12-18 09:37:41.644726\n"
     ]
    }
   ],
   "source": [
    "x = today + timedelta(minutes=5)\n",
    "print(today,x)"
   ]
  },
  {
   "cell_type": "code",
   "execution_count": 10,
   "metadata": {},
   "outputs": [],
   "source": [
    "# reset scheduler by removing all existing jobs\n",
    "jobs = scheduler.get_jobs()\n",
    "for job in jobs:\n",
    "    scheduler.remove_job(job.id)\n",
    "\n",
    "# add jobs for next month to end of next year     \n",
    "for year in range(curr_year,curr_year+2):\n",
    "    if year == curr_year:\n",
    "        for month in range(curr_month+1,13):\n",
    "            exec_date = datetime(year, month, 1)\n",
    "            scheduler.add_job(printing_something, trigger='date', next_run_time=str(exec_date), args=[text])\n",
    "    else:\n",
    "        for month in range(1,13):\n",
    "            exec_date = datetime(year, month, 1)\n",
    "            scheduler.add_job(printing_something, trigger='date', next_run_time=str(exec_date), args=[text])"
   ]
  },
  {
   "cell_type": "code",
   "execution_count": 37,
   "metadata": {},
   "outputs": [],
   "source": [
    "# import pytz\n",
    "# for tz in pytz.all_timezones:\n",
    "#     print(tz)"
   ]
  },
  {
   "cell_type": "code",
   "execution_count": 38,
   "metadata": {},
   "outputs": [
    {
     "data": {
      "text/plain": [
       "'Europe/Amsterdam'"
      ]
     },
     "execution_count": 38,
     "metadata": {},
     "output_type": "execute_result"
    }
   ],
   "source": [
    "\"Europe/Amsterdam\""
   ]
  },
  {
   "cell_type": "code",
   "execution_count": 11,
   "metadata": {},
   "outputs": [],
   "source": [
    "jobs = scheduler.get_jobs()"
   ]
  },
  {
   "cell_type": "code",
   "execution_count": 12,
   "metadata": {},
   "outputs": [
    {
     "data": {
      "text/plain": [
       "[<Job (id=6c7c87486452426b8848e5e43c79df37 name=printing_something)>,\n",
       " <Job (id=437d9167a52849ceb321e5df2d03c969 name=printing_something)>,\n",
       " <Job (id=ddbf373e84ff4ba6ad6be59f8d9347e9 name=printing_something)>,\n",
       " <Job (id=de1ffbc919aa4e5e917588e7a6a32cfd name=printing_something)>,\n",
       " <Job (id=f052cee2bf224c5e885fc031df7bbea0 name=printing_something)>,\n",
       " <Job (id=93b1a702295c4b529ecdeb35836719e1 name=printing_something)>,\n",
       " <Job (id=bb7eb9c00a834e6690940ead59512721 name=printing_something)>,\n",
       " <Job (id=98d6d3be2c7340208e0be4e49cfc5df0 name=printing_something)>,\n",
       " <Job (id=d94e5ee00f6e4b22ab498ef268a85913 name=printing_something)>,\n",
       " <Job (id=9dcbd1131f93432b874d0fffdc85e057 name=printing_something)>,\n",
       " <Job (id=27575789d21c41dbb8b9d91a384be2da name=printing_something)>,\n",
       " <Job (id=4784b0872bc946ed841835b41fa50033 name=printing_something)>]"
      ]
     },
     "execution_count": 12,
     "metadata": {},
     "output_type": "execute_result"
    }
   ],
   "source": [
    "jobs"
   ]
  },
  {
   "cell_type": "code",
   "execution_count": null,
   "metadata": {},
   "outputs": [],
   "source": []
  },
  {
   "cell_type": "code",
   "execution_count": 12,
   "metadata": {},
   "outputs": [],
   "source": [
    "time = \"2020-12-17T17:05\""
   ]
  },
  {
   "cell_type": "code",
   "execution_count": 13,
   "metadata": {},
   "outputs": [],
   "source": [
    "date_time = datetime.strptime(str(time), '%Y-%m-%dT%H:%M')"
   ]
  },
  {
   "cell_type": "code",
   "execution_count": 19,
   "metadata": {},
   "outputs": [],
   "source": [
    "exec_date = datetime(2020, 12, 1)"
   ]
  },
  {
   "cell_type": "code",
   "execution_count": 20,
   "metadata": {},
   "outputs": [
    {
     "data": {
      "text/plain": [
       "'2020-12-01 00:00:00'"
      ]
     },
     "execution_count": 20,
     "metadata": {},
     "output_type": "execute_result"
    }
   ],
   "source": [
    "str(exec_date)"
   ]
  },
  {
   "cell_type": "code",
   "execution_count": 15,
   "metadata": {},
   "outputs": [
    {
     "name": "stdout",
     "output_type": "stream",
     "text": [
      "2020-12-17 17:05:00\n"
     ]
    }
   ],
   "source": [
    "print(str(date_time))"
   ]
  },
  {
   "cell_type": "code",
   "execution_count": null,
   "metadata": {},
   "outputs": [],
   "source": []
  },
  {
   "cell_type": "code",
   "execution_count": null,
   "metadata": {},
   "outputs": [],
   "source": [
    "# Store the job in a variable in case we want to cancel it\n",
    "job = scheduler.add_date_job(printing_something, exec_date, ['test text'])"
   ]
  }
 ],
 "metadata": {
  "kernelspec": {
   "display_name": "Python 3",
   "language": "python",
   "name": "python3"
  },
  "language_info": {
   "codemirror_mode": {
    "name": "ipython",
    "version": 3
   },
   "file_extension": ".py",
   "mimetype": "text/x-python",
   "name": "python",
   "nbconvert_exporter": "python",
   "pygments_lexer": "ipython3",
   "version": "3.7.9"
  }
 },
 "nbformat": 4,
 "nbformat_minor": 4
}
